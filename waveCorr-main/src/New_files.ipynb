{
 "cells": [
  {
   "cell_type": "code",
   "outputs": [],
   "source": [
    "import pandas as pd\n",
    "import numpy as np\n",
    "from scipy import stats\n",
    "import os"
   ],
   "metadata": {
    "collapsed": false,
    "ExecuteTime": {
     "end_time": "2024-03-29T03:59:18.519585700Z",
     "start_time": "2024-03-29T03:59:16.782709100Z"
    }
   },
   "id": "8e2d389da0d96ac8",
   "execution_count": 1
  },
  {
   "cell_type": "code",
   "outputs": [],
   "source": [
    "path = 'data/IND'\n",
    "\n",
    "def list_all_files_and_folders(directory, files = []):\n",
    "    for entry in os.listdir(directory):\n",
    "        full_path = os.path.join(directory, entry)\n",
    "        if os.path.isdir(full_path):\n",
    "            list_all_files_and_folders(full_path, files)  # Recursive call for subdirectories\n",
    "        else:\n",
    "            files.append(full_path[8:])\n",
    "    return files\n",
    "\n",
    "files = list_all_files_and_folders(path)"
   ],
   "metadata": {
    "collapsed": false,
    "ExecuteTime": {
     "end_time": "2024-03-29T04:01:05.786779800Z",
     "start_time": "2024-03-29T04:01:05.752602900Z"
    }
   },
   "id": "f5c10a1e352efb65",
   "execution_count": 8
  },
  {
   "cell_type": "code",
   "outputs": [
    {
     "data": {
      "text/plain": "['\\\\3MINDIA.NS.csv',\n '\\\\AARTIIND.NS.csv',\n '\\\\ABAN.NS.csv',\n '\\\\ABB.NS.csv',\n '\\\\ACC.NS.csv',\n '\\\\ADANIENT.NS.csv',\n '\\\\ADORWELD.NS.csv',\n '\\\\AEGISCHEM.NS.csv',\n '\\\\AFTEK.NS.csv',\n '\\\\AGRODUTCH.NS.csv',\n '\\\\AKZOINDIA.NS.csv',\n '\\\\ALPSINDUS.NS.csv',\n '\\\\AMBUJACEM.NS.csv',\n '\\\\APOLLOHOSP.NS.csv',\n '\\\\APTECHT.NS.csv',\n '\\\\ARCHIES.NS.csv',\n '\\\\ARVIND.NS.csv',\n '\\\\ASAL.NS.csv',\n '\\\\ASHIMASYN.NS.csv',\n '\\\\ASHOKLEY.NS.csv',\n '\\\\ASIL.NS.csv',\n '\\\\ASTRAZEN.NS.csv',\n '\\\\ATFL.NS.csv',\n '\\\\ATNINTER.NS.csv',\n '\\\\ATUL.NS.csv',\n '\\\\AUSOMENT.NS.csv',\n '\\\\AUTOAXLES.NS.csv',\n '\\\\AXISBANK.NS.csv',\n '\\\\BAGFILMS.NS.csv',\n '\\\\BAJAJ-AUTO.NS.csv',\n '\\\\BAJAJFINSV.NS.csv',\n '\\\\BAJAJHIND.NS.csv',\n '\\\\BAJFINANCE.NS.csv',\n '\\\\BANARISUG.NS.csv',\n '\\\\BANKINDIA.NS.csv',\n '\\\\BASF.NS.csv',\n '\\\\BATAINDIA.NS.csv',\n '\\\\BBTC.NS.csv',\n '\\\\BEL.NS.csv',\n '\\\\BEML.NS.csv',\n '\\\\BHARATRAS.NS.csv',\n '\\\\BHARTIARTL.NS.csv',\n '\\\\BHEL.NS.csv',\n '\\\\BIL.NS.csv',\n '\\\\BINANIIND.NS.csv',\n '\\\\BLUECHIP.NS.csv',\n '\\\\BLUEDART.NS.csv',\n '\\\\BOMDYEING.NS.csv',\n '\\\\BOSCHLTD.NS.csv',\n '\\\\BPCL.NS.csv',\n '\\\\BPL.NS.csv',\n '\\\\BRITANNIA.NS.csv',\n '\\\\CIPLA.NS.csv',\n '\\\\DABUR.NS.csv',\n '\\\\DRREDDY.NS.csv',\n '\\\\GLFL.NS.csv',\n '\\\\HEROMOTOCO.NS.csv',\n '\\\\HINDALCO.NS.csv',\n '\\\\INDUSINDBK.NS.csv',\n '\\\\ITC.NS.csv',\n '\\\\JAIBALAJI.NS.csv',\n '\\\\KOPDRUGS.NS.csv',\n '\\\\KOTAKBANK.NS.csv',\n '\\\\LT.NS.csv',\n '\\\\LYKALABS.NS.csv',\n '\\\\MALWACOTT.NS.csv',\n '\\\\MARKSANS.NS.csv',\n '\\\\MARUTI.NS.csv',\n '\\\\MELSTAR.NS.csv',\n '\\\\NESTLEIND.NS.csv',\n '\\\\NOVOPANIN.NS.csv',\n '\\\\ONGC.NS.csv',\n '\\\\PEARLPOLY.NS.csv',\n '\\\\PVP.NS.csv',\n '\\\\QUINTEGRA.NS.csv',\n '\\\\RELIANCE.NS.csv',\n '\\\\RPGLIFE.NS.csv',\n '\\\\RSWM.NS.csv',\n '\\\\SAKHTISUG.NS.csv',\n '\\\\SAMBHAAV.NS.csv',\n '\\\\SHREYAS.NS.csv',\n '\\\\SIL.NS.csv',\n '\\\\TATACONSUM.NS.csv',\n '\\\\TATASTEEL.NS.csv',\n '\\\\TCS.NS.csv',\n '\\\\TITAN.NS.csv',\n '\\\\ULTRACEMCO.NS.csv',\n '\\\\WIPRO.NS.csv']"
     },
     "execution_count": 9,
     "metadata": {},
     "output_type": "execute_result"
    }
   ],
   "source": [
    "files"
   ],
   "metadata": {
    "collapsed": false,
    "ExecuteTime": {
     "end_time": "2024-03-29T04:01:06.488184200Z",
     "start_time": "2024-03-29T04:01:06.453301800Z"
    }
   },
   "id": "f903207ce73357a4",
   "execution_count": 9
  },
  {
   "cell_type": "code",
   "execution_count": 30,
   "id": "initial_id",
   "metadata": {
    "collapsed": true,
    "ExecuteTime": {
     "end_time": "2024-01-31T06:21:40.067102200Z",
     "start_time": "2024-01-31T06:21:40.002510700Z"
    }
   },
   "outputs": [],
   "source": [
    "data = pd.read_csv(\"data/can/ABX.csv\")"
   ]
  },
  {
   "cell_type": "code",
   "outputs": [],
   "source": [
    "x_close = data[\"x_close\"].to_numpy()"
   ],
   "metadata": {
    "collapsed": false,
    "ExecuteTime": {
     "end_time": "2024-01-31T04:32:39.154879Z",
     "start_time": "2024-01-31T04:32:39.135032300Z"
    }
   },
   "id": "77c84a9c2113e859",
   "execution_count": 7
  },
  {
   "cell_type": "code",
   "outputs": [
    {
     "name": "stdout",
     "output_type": "stream",
     "text": [
      "[ 0.          0.01378273 -0.0124251  ...  0.00415675  0.01393443\n",
      "  0.02112328]\n",
      "[0.         0.         0.         ... 0.50848534 0.26160311 0.30123057]\n",
      "[ 0.          0.          0.         ... -0.0989411   0.38295351\n",
      "  0.70709124]\n"
     ]
    }
   ],
   "source": [
    "# Initialize arrays for skewness and kurtosis\n",
    "skewness_values = np.zeros_like(x_close)\n",
    "kurtosis_values = np.zeros_like(x_close)\n",
    "\n",
    "# Calculate skewness and kurtosis in groups of 10\n",
    "for i in range(0, len(x_close)-10):\n",
    "    group = x_close[i:i+10]\n",
    "    if len(group) > 1:  # Ensure at least 2 elements for valid calculation\n",
    "        skewness_values[i+10] = stats.skew(group, bias=False)  # Unbiased estimator\n",
    "        kurtosis_values[i+10] = stats.kurtosis(group, bias=False)  # Unbiased estimator\n",
    "\n",
    "print(x_close)\n",
    "print(skewness_values)\n",
    "print(kurtosis_values)"
   ],
   "metadata": {
    "collapsed": false,
    "ExecuteTime": {
     "end_time": "2024-01-31T04:58:06.409437700Z",
     "start_time": "2024-01-31T04:58:05.102784800Z"
    }
   },
   "id": "c8525a3e5b0eb9bb",
   "execution_count": 19
  },
  {
   "cell_type": "code",
   "outputs": [
    {
     "name": "stdout",
     "output_type": "stream",
     "text": [
      "            date   x_close  Skewness  Kurtosis   y_close\n",
      "0     2003-01-02  0.000000  0.000000  0.000000  0.987652\n",
      "1     2003-01-03  0.013783  0.000000  0.000000  0.976159\n",
      "2     2003-01-06 -0.012425  0.000000  0.000000  1.020959\n",
      "3     2003-01-07 -0.024130  0.000000  0.000000  0.981850\n",
      "4     2003-01-08  0.020742  0.000000  0.000000  1.014627\n",
      "5     2003-01-09 -0.018317  0.000000  0.000000  0.991904\n",
      "6     2003-01-10  0.014521  0.000000  0.000000  0.969808\n",
      "7     2003-01-13 -0.008129  0.000000  0.000000  1.021330\n",
      "8     2003-01-14 -0.030657  0.000000  0.000000  1.035547\n",
      "9     2003-01-15  0.021106  0.000000  0.000000  0.990362\n",
      "10    2003-01-16  0.034930 -0.080347 -1.612055  1.003716\n",
      "11    2003-01-17 -0.009685 -0.005938 -1.550725  0.990578\n",
      "12    2003-01-20  0.003709  0.349287 -1.337667  1.025472\n",
      "13    2003-01-21 -0.009467  0.108761 -1.286484  1.037898\n",
      "14    2003-01-22  0.025153  0.084549 -0.912932  1.026992\n",
      "15    2003-01-23  0.037198  0.087857 -1.053043  0.958955\n",
      "16    2003-01-24  0.026634 -0.239511 -0.941527  1.014356\n",
      "17    2003-01-27 -0.041911 -0.343400 -1.170656  0.989578\n",
      "18    2003-01-28  0.014253 -0.560141 -1.017792  1.013661\n",
      "19    2003-01-29 -0.010477 -1.037846  0.740139  0.983216\n",
      "20    2003-01-30  0.013568 -0.596883 -0.187969  0.993520\n",
      "21    2003-01-31 -0.016926 -0.632613  0.330832  1.036465\n",
      "22    2003-02-03 -0.006501 -0.545986 -0.117357  0.974201\n",
      "23    2003-02-04  0.035816 -0.384015 -0.394665  1.008356\n",
      "24    2003-02-05 -0.026138 -0.686362 -0.325871  0.992529\n",
      "25    2003-02-06  0.008321 -0.186737 -1.150666  0.976190\n",
      "26    2003-02-07 -0.007499 -0.208151 -0.696737  1.026782\n",
      "27    2003-02-10 -0.024098  0.064615  0.023415  0.954062\n",
      "28    2003-02-11  0.026429  0.624230 -0.181043  1.039737\n",
      "29    2003-02-12 -0.047026  0.564625 -0.808884  0.965051\n",
      "...          ...       ...       ...       ...       ...\n",
      "4199  2019-09-19  0.038287  0.216424  2.398264  1.007852\n",
      "4200  2019-09-20  0.007166  1.129878  0.433403  1.012177\n",
      "4201  2019-09-23  0.007822  1.038308  0.462751  0.964560\n",
      "4202  2019-09-24  0.012103  1.073451  0.730095  0.997567\n",
      "4203  2019-09-25 -0.036083  0.867051  0.681937  0.979553\n",
      "4204  2019-09-26 -0.002435  0.524697  0.142386  0.975912\n",
      "4205  2019-09-27 -0.020659  0.444558  0.373326  0.992218\n",
      "4206  2019-09-30 -0.024383  0.626271  0.015893  1.012573\n",
      "4207  2019-10-01 -0.007813  0.641522 -0.268421  0.992959\n",
      "4208  2019-10-02  0.012495  0.536270  0.122761  1.026257\n",
      "4209  2019-10-03 -0.007066  0.096791 -0.011946  0.995891\n",
      "4210  2019-10-04  0.025918 -0.603669 -0.745660  1.023010\n",
      "4211  2019-10-07 -0.004118 -0.176841 -0.685587  0.989421\n",
      "4212  2019-10-08  0.022749  0.014378 -0.397100  1.002969\n",
      "4213  2019-10-09 -0.010636  0.098204 -0.720050  0.950562\n",
      "4214  2019-10-10  0.002965  0.516257 -0.712077  0.978103\n",
      "4215  2019-10-11 -0.050702  0.394780 -0.849238  1.018383\n",
      "4216  2019-10-15 -0.022140 -0.711940  0.940310  1.009310\n",
      "4217  2019-10-16  0.018216 -0.739370  1.135101  1.003835\n",
      "4218  2019-10-17  0.009267 -0.952593  0.967882  0.976192\n",
      "4219  2019-10-18  0.003828 -0.939832  1.041085  0.989437\n",
      "4220  2019-10-21 -0.024096 -1.116775  1.375033  0.995081\n",
      "4221  2019-10-22 -0.010619 -0.806605  0.516334  1.038420\n",
      "4222  2019-10-23 -0.004931 -0.693148  0.334915  1.002727\n",
      "4223  2019-10-24  0.037700 -0.876823  1.062282  0.971720\n",
      "4224  2019-10-25  0.002723 -0.266154  0.569406  1.004165\n",
      "4225  2019-10-28 -0.028687 -0.263044  0.573576  1.014032\n",
      "4226  2019-10-29  0.004157  0.508485 -0.098941  1.021348\n",
      "4227  2019-10-30  0.013934  0.261603  0.382954       NaN\n",
      "4228  2019-10-31  0.021123  0.301231  0.707091       NaN\n",
      "\n",
      "[4229 rows x 5 columns]\n"
     ]
    }
   ],
   "source": [
    "# Insert the new columns at the desired position (between x_close and y_close)\n",
    "data.insert(loc=2, column=\"Skewness\", value=skewness_values)  # Insert 'None' values initially\n",
    "data.insert(loc=3, column=\"Kurtosis\", value=kurtosis_values)  # Insert 'None' values initially\n",
    "\n",
    "# You can now assign desired values to the new columns\n",
    "\n",
    "# Print the resulting DataFrame\n",
    "print(data)"
   ],
   "metadata": {
    "collapsed": false,
    "ExecuteTime": {
     "end_time": "2024-01-31T05:18:39.723688Z",
     "start_time": "2024-01-31T05:18:39.698736700Z"
    }
   },
   "id": "b533ffd06bb170b3",
   "execution_count": 25
  },
  {
   "cell_type": "code",
   "outputs": [],
   "source": [
    "for file in files:\n",
    "    data = pd.read_csv(\"data/can\" + file)\n",
    "    x_close = data[\"x_close\"].to_numpy()\n",
    "    \n",
    "    # Initialize arrays for skewness and kurtosis\n",
    "    skewness_values = np.zeros_like(x_close)\n",
    "    kurtosis_values = np.zeros_like(x_close)\n",
    "    \n",
    "    # Calculate skewness and kurtosis in groups of 10\n",
    "    for i in range(0, len(x_close)-10):\n",
    "        group = x_close[i:i+10]\n",
    "        if len(group) > 1:  # Ensure at least 2 elements for valid calculation\n",
    "            skewness_values[i+10] = stats.skew(group, bias=False)  # Unbiased estimator\n",
    "            kurtosis_values[i+10] = stats.kurtosis(group, bias=False)  # Unbiased estimator\n",
    "            \n",
    "    # Insert the new columns at the desired position (between x_close and y_close)\n",
    "    data.insert(loc=2, column=\"Skewness\", value=skewness_values)  # Insert 'None' values initially\n",
    "    data.insert(loc=3, column=\"Kurtosis\", value=kurtosis_values)  # Insert 'None' values initially  \n",
    "    \n",
    "    data.to_csv(\"data/can_new\" + file, index=False)"
   ],
   "metadata": {
    "collapsed": false,
    "ExecuteTime": {
     "end_time": "2024-01-31T08:05:30.154751Z",
     "start_time": "2024-01-31T08:03:53.370334100Z"
    }
   },
   "id": "a56a7318a811f0e7",
   "execution_count": 35
  },
  {
   "cell_type": "raw",
   "source": [
    "Canada Data\n",
    "Results for category: can_waveCorr\n",
    "--------------------------------------------------\n",
    "Annual return   :26.0\\% (0.0\\%)\n",
    "Annual vol      :14.0\\% (0.0\\%)\n",
    "SR     :1.81 (0.0)\n",
    "MDD    :16.0\\% (0.0\\%)\n",
    "Daily hit rate  :52.0\\% (0.0\\%)\n",
    "Turnover        :0.15 (0.0)\n",
    "GE        :0.97 (0.0)\n",
    "Annual return EW:4.0\\% (0\\%)\n",
    "Annual vol EW   :14.0\\% (0\\%)\n",
    "SR EW  :0.28 (0)\n",
    "MDD EW :36.0\\% (0\\%)\n",
    "--------------------------------------------------\n",
    "Results for category: can_cs_LSTM_CNN\n",
    "--------------------------------------------------\n",
    "Annual return   :19.0\\% (0.0\\%)\n",
    "Annual vol      :17.0\\% (0.0\\%)\n",
    "SR     :1.15 (0.0)\n",
    "MDD    :23.0\\% (0.0\\%)\n",
    "Daily hit rate  :51.0\\% (0.0\\%)\n",
    "Turnover        :0.23 (0.0)\n",
    "GE        :1.0 (0.0)\n",
    "Annual return EW:4.0\\% (0\\%)\n",
    "Annual vol EW   :14.0\\% (0\\%)\n",
    "SR EW  :0.28 (0)\n",
    "MDD EW :36.0\\% (0\\%)\n",
    "--------------------------------------------------\n",
    "Results for category: can_cs_CNN\n",
    "--------------------------------------------------\n",
    "Annual return   :19.0\\% (0.0\\%)\n",
    "Annual vol      :15.0\\% (0.0\\%)\n",
    "SR     :1.23 (0.0)\n",
    "MDD    :21.0\\% (0.0\\%)\n",
    "Daily hit rate  :50.0\\% (0.0\\%)\n",
    "Turnover        :0.23 (0.0)\n",
    "GE        :0.99 (0.0)\n",
    "Annual return EW:4.0\\% (0\\%)\n",
    "Annual vol EW   :14.0\\% (0\\%)\n",
    "SR EW  :0.28 (0)\n",
    "MDD EW :36.0\\% (0\\%)\n",
    "--------------------------------------------------\n",
    "Results for category: can_eiie\n",
    "--------------------------------------------------\n",
    "Annual return   :3.0\\% (0.0\\%)\n",
    "Annual vol      :15.0\\% (0.0\\%)\n",
    "SR     :0.19 (0.0)\n",
    "MDD    :40.0\\% (0.0\\%)\n",
    "Daily hit rate  :49.0\\% (0.0\\%)\n",
    "Turnover        :0.07 (0.0)\n",
    "GE        :0.89 (0.0)\n",
    "Annual return EW:4.0\\% (0\\%)\n",
    "Annual vol EW   :14.0\\% (0\\%)\n",
    "SR EW  :0.28 (0)\n",
    "MDD EW :36.0\\% (0\\%)\n",
    "----------------------------------------------------"
   ],
   "metadata": {
    "collapsed": false
   },
   "id": "4ed5c3baecc6441"
  },
  {
   "cell_type": "markdown",
   "source": [
    "Canada New Data\n",
    "Results for category: can_new_waveCorr\n",
    "--------------------------------------------------\n",
    "Annual return   :27.0\\% (0.0\\%)\n",
    "Annual vol      :14.0\\% (0.0\\%)\n",
    "SR     :1.88 (0.0)\n",
    "MDD    :15.0\\% (0.0\\%)\n",
    "Daily hit rate  :53.0\\% (0.0\\%)\n",
    "Turnover        :0.14 (0.0)\n",
    "GE        :0.97 (0.0)\n",
    "Annual return EW:4.0\\% (0\\%)\n",
    "Annual vol EW   :14.0\\% (0\\%)\n",
    "SR EW  :0.28 (0)\n",
    "MDD EW :36.0\\% (0\\%)\n",
    "--------------------------------------------------\n",
    "Results for category: can_new_cs_LSTM_CNN\n",
    "--------------------------------------------------\n",
    "Annual return   :14.0\\% (0.0\\%)\n",
    "Annual vol      :22.0\\% (0.0\\%)\n",
    "SR     :0.64 (0.0)\n",
    "MDD    :34.0\\% (0.0\\%)\n",
    "Daily hit rate  :52.0\\% (0.0\\%)\n",
    "Turnover        :0.25 (0.0)\n",
    "GE        :1.0 (0.0)\n",
    "Annual return EW:4.0\\% (0\\%)\n",
    "Annual vol EW   :14.0\\% (0\\%)\n",
    "SR EW  :0.28 (0)\n",
    "MDD EW :36.0\\% (0\\%)\n",
    "--------------------------------------------------\n",
    "Results for category: can_new_cs_CNN\n",
    "--------------------------------------------------\n",
    "Annual return   :14.0\\% (0.0\\%)\n",
    "Annual vol      :21.0\\% (0.0\\%)\n",
    "SR     :0.68 (0.0)\n",
    "MDD    :36.0\\% (0.0\\%)\n",
    "Daily hit rate  :52.0\\% (0.0\\%)\n",
    "Turnover        :0.24 (0.0)\n",
    "GE        :1.0 (0.0)\n",
    "Annual return EW:4.0\\% (0\\%)\n",
    "Annual vol EW   :14.0\\% (0\\%)\n",
    "SR EW  :0.28 (0)\n",
    "MDD EW :36.0\\% (0\\%)\n",
    "--------------------------------------------------\n",
    "Results for category: can_new_eiie\n",
    "--------------------------------------------------\n",
    "Annual return   :3.0\\% (0.0\\%)\n",
    "Annual vol      :15.0\\% (0.0\\%)\n",
    "SR     :0.17 (0.0)\n",
    "MDD    :37.0\\% (0.0\\%)\n",
    "Daily hit rate  :49.0\\% (0.0\\%)\n",
    "Turnover        :0.04 (0.0)\n",
    "GE        :0.87 (0.0)\n",
    "Annual return EW:4.0\\% (0\\%)\n",
    "Annual vol EW   :14.0\\% (0\\%)\n",
    "SR EW  :0.28 (0)\n",
    "MDD EW :36.0\\% (0\\%)\n",
    "--------------------------------------------------"
   ],
   "metadata": {
    "collapsed": false
   },
   "id": "f4a6fa31181e9d19"
  }
 ],
 "metadata": {
  "kernelspec": {
   "display_name": "Python 3",
   "language": "python",
   "name": "python3"
  },
  "language_info": {
   "codemirror_mode": {
    "name": "ipython",
    "version": 2
   },
   "file_extension": ".py",
   "mimetype": "text/x-python",
   "name": "python",
   "nbconvert_exporter": "python",
   "pygments_lexer": "ipython2",
   "version": "2.7.6"
  }
 },
 "nbformat": 4,
 "nbformat_minor": 5
}

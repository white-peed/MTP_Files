{
 "cells": [
  {
   "cell_type": "code",
   "execution_count": 75,
   "id": "72042169342a38d5",
   "metadata": {
    "collapsed": false,
    "ExecuteTime": {
     "end_time": "2024-04-25T13:54:20.222091Z",
     "start_time": "2024-04-25T13:54:20.198522400Z"
    }
   },
   "outputs": [],
   "source": [
    "import pandas as pd\n",
    "\n",
    "from wavecorr_input import loadInput\n",
    "from wavecorr_enum import normalization_mode\n",
    "from wavecorr_agent import agent_manager\n",
    "import tensorflow as tf\n",
    "import numpy as np\n",
    "import argparse\n",
    "\n",
    "# parser = argparse.ArgumentParser()\n",
    "\n",
    "# Parameters of the portfolio management problem\n",
    "\n",
    "###############################################################################\n",
    "# parser.add_argument(\"--dataset_name\",default='can') # possible values: can, us, covid\n",
    "number_of_stocks = 50 # The number of stocks to be loaded from the assigned data set\n",
    "tradeFee = 0.0005 # The commission rate\n",
    "constrain_action = 0 # 0: No constraint on the maximum weight allocation, 1: With constraint\n",
    "maxStockWeight = 0.25 # The maximum weight allocated to each individual asset in case of constrain_action = 1\n",
    "# parser.add_argument(\"--network_model\",default='waveCorr')# The model to use. Possible values: waveCorr, cs_LSTM_CNN, cs_CNN, eiie\n",
    "restoreSavedModel = False # True: restores a previously saved model\n",
    "number_of_experiments = 1 # previuoslyDeep 10\n",
    "number_of_experiments = 1 # previuoslyDeep 10\n",
    "train_mode = 1 # 1: Experiments with different seeds\n",
    "               # 2: Experiments with different permutation of stocks\n",
    "# parser.add_argument(\"--seed\",default=1111)\n",
    "\n",
    "# Assign parameters\n",
    "#########################################################################\n",
    "dataset_name = 'hin_new'\n",
    "network_model = 'waveCorr'\n",
    "seed = 1111\n",
    "\n",
    "\n",
    "# For can and us data sets: trainSetLen = 2766, For covid data set: trainSetLen = 1967\n",
    "if dataset_name == 'can' or dataset_name == 'us' or dataset_name == 'can_new':\n",
    "    trainSetLen = 2766\n",
    "else:\n",
    "    trainSetLen = 2766\n",
    "###############################################################################\n",
    "\n",
    "# Hyperparameters of the Neural Networks\n",
    "\n",
    "###############################################################################\n",
    "\n",
    "epochs = 1 # The number of epochs              previouslyDeep 3000\n",
    "learningRate = 1e-4 # The learning rate of the algorithm\n",
    "decayRate = 0.9999 # The exponential decay rate\n",
    "minimmumRate = 1e-5 # The lower bound of the learning rate in case of decayRate < 1\n",
    "minibatchSize = 1 # The size of each minibatch. The case of minibatchSize = 1 is explained in the paper and provides the highest efficiency of training\n",
    "lookback_window = 32 # The length of historical window of prices used for training the model\n",
    "planning_horizon = 32 # The horizon on which the SR is computed\n",
    "#seed = 1111 # Seed value used for initialization of all random values throughout the code       previouslyDeep\n",
    "net_depth = 8 # The number of channels in the waveCorr architecture\n",
    "regularizer_multiplier=1e-6 # Regularization coefficient to penalize the objective function to not overfit\n",
    "RNN=True # If True, the actions on each period are sent back and used as part of the sate for the next action\n",
    "keep_prob_value=.5 # The probability ratio in the dropout layer of the model\n",
    "\n",
    "###############################################################################\n"
   ]
  },
  {
   "cell_type": "code",
   "outputs": [
    {
     "data": {
      "text/plain": "'hin_new'"
     },
     "execution_count": 76,
     "metadata": {},
     "output_type": "execute_result"
    }
   ],
   "source": [
    "dataset_name"
   ],
   "metadata": {
    "collapsed": false,
    "ExecuteTime": {
     "end_time": "2024-04-25T13:54:20.866035500Z",
     "start_time": "2024-04-25T13:54:20.822629300Z"
    }
   },
   "id": "a5402c618131f94a",
   "execution_count": 76
  },
  {
   "cell_type": "code",
   "outputs": [],
   "source": [
    "\n",
    "# load the data from the assigned data set\n",
    "data = loadInput(dataset_name,normalization_mode.capped_norm,number_of_stocks)"
   ],
   "metadata": {
    "collapsed": false,
    "ExecuteTime": {
     "end_time": "2024-04-25T13:54:23.098145100Z",
     "start_time": "2024-04-25T13:54:22.148367400Z"
    }
   },
   "id": "b3a65c50e8e1b3f4",
   "execution_count": 77
  },
  {
   "cell_type": "code",
   "outputs": [],
   "source": [
    "data1 = loadInput(\"hin_new\",normalization_mode.capped_norm,number_of_stocks)\n",
    "data2 = loadInput(\"can\",normalization_mode.capped_norm,number_of_stocks)"
   ],
   "metadata": {
    "collapsed": true,
    "ExecuteTime": {
     "end_time": "2024-04-25T14:06:57.136427Z",
     "start_time": "2024-04-25T14:06:55.714922900Z"
    }
   },
   "id": "initial_id",
   "execution_count": 90
  },
  {
   "cell_type": "code",
   "outputs": [
    {
     "data": {
      "text/plain": "(4220, 50, 1)"
     },
     "execution_count": 92,
     "metadata": {},
     "output_type": "execute_result"
    }
   ],
   "source": [
    "np.shape(data2.x)"
   ],
   "metadata": {
    "collapsed": false,
    "ExecuteTime": {
     "end_time": "2024-04-25T14:07:02.654193300Z",
     "start_time": "2024-04-25T14:07:02.636186100Z"
    }
   },
   "id": "8cddecd4a75b41a4",
   "execution_count": 92
  },
  {
   "cell_type": "code",
   "outputs": [],
   "source": [],
   "metadata": {
    "collapsed": false
   },
   "id": "2761320c0ecb29e0"
  }
 ],
 "metadata": {
  "kernelspec": {
   "display_name": "Python 3",
   "language": "python",
   "name": "python3"
  },
  "language_info": {
   "codemirror_mode": {
    "name": "ipython",
    "version": 2
   },
   "file_extension": ".py",
   "mimetype": "text/x-python",
   "name": "python",
   "nbconvert_exporter": "python",
   "pygments_lexer": "ipython2",
   "version": "2.7.6"
  }
 },
 "nbformat": 4,
 "nbformat_minor": 5
}
